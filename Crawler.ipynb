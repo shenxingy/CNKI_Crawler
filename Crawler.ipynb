{
 "cells": [
  {
   "cell_type": "code",
   "execution_count": 1,
   "metadata": {},
   "outputs": [],
   "source": [
    "import time\n",
    "import pyperclip\n",
    "import numpy as np\n",
    "import pandas as pd\n",
    "from selenium import webdriver\n",
    "from selenium.webdriver.common.by import By\n",
    "from selenium.webdriver.common.keys import Keys\n",
    "from selenium.webdriver.support.ui import WebDriverWait\n",
    "from selenium.webdriver.common.action_chains import ActionChains\n",
    "from selenium.webdriver.support import expected_conditions as EC"
   ]
  },
  {
   "cell_type": "code",
   "execution_count": 2,
   "metadata": {},
   "outputs": [],
   "source": [
    "def go_to_page(page_num):\n",
    "    # Wait for the page box to become visible\n",
    "    page_box = WebDriverWait(driver, 10).until(EC.presence_of_element_located((By.CLASS_NAME, \"pagebox\")))\n",
    "    \n",
    "    i = 1\n",
    "    while True:\n",
    "        try:\n",
    "            # Find and click on the page link\n",
    "            page = page_box.find_element(By.LINK_TEXT, str(page_num))\n",
    "            page.click()\n",
    "            time.sleep(1)\n",
    "            break\n",
    "        except:\n",
    "            i += 4\n",
    "            # Find and click on the page link\n",
    "            page = page_box.find_element(By.LINK_TEXT, str(i))\n",
    "            page.click()\n",
    "            time.sleep(1)"
   ]
  },
  {
   "cell_type": "code",
   "execution_count": 3,
   "metadata": {},
   "outputs": [],
   "source": [
    "driver = webdriver.Chrome()\n",
    "driver.get(\"https://navi.cnki.net/knavi/newspapers/JFRB/detail?uniplatform=NZKPT\")\n",
    "\n",
    "search_box = WebDriverWait(driver, 10).until(\n",
    "    EC.visibility_of_element_located((By.ID, \"J_searchTxt\"))\n",
    ")\n",
    "\n",
    "# 在输入框中输入文字\n",
    "search_box.send_keys(\"新冠\")\n",
    "time.sleep(2)\n",
    "\n",
    "# press enter\n",
    "search_box.send_keys(Keys.ENTER)\n",
    "time.sleep(1)\n",
    "sort_dropdown = driver.find_element(By.CLASS_NAME, \"sort_select_default\")\n",
    "\n",
    "# hover over the sorting options dropdown\n",
    "ActionChains(driver).move_to_element(sort_dropdown).perform()\n",
    "\n",
    "# click and then select the date option\n",
    "date_option = WebDriverWait(driver, 10).until(\n",
    "    EC.presence_of_element_located((By.XPATH, '//a[@name=\"DT\"]'))\n",
    ")\n",
    "date_option.click()\n",
    "time.sleep(1)\n",
    "\n",
    "go_to_page(1)"
   ]
  },
  {
   "cell_type": "code",
   "execution_count": 4,
   "metadata": {},
   "outputs": [],
   "source": [
    "# Find the <tbody> element within the table (assuming there is only one table)\n",
    "tbody = driver.find_element(By.XPATH, \"//table/tbody\")\n",
    "\n",
    "# Find all <tr> elements within the <tbody>\n",
    "rows = tbody.find_elements(By.TAG_NAME, \"tr\")\n",
    "for row in rows:\n",
    "    link = row.find_element(By.XPATH, \".//td[@class='name']/a\").get_attribute(\"href\")\n",
    "    # click on the link\n",
    "    driver.get(link)\n",
    "    html_link = driver.find_element(By.CLASS_NAME, \"btn-html\")\n",
    "    html_link.click()\n",
    "    time.sleep(1.1)\n",
    "    break"
   ]
  },
  {
   "cell_type": "markdown",
   "metadata": {},
   "source": [
    "# Please log in through WeChat, and then run the following code"
   ]
  },
  {
   "cell_type": "code",
   "execution_count": 5,
   "metadata": {},
   "outputs": [],
   "source": [
    "# go to the new tab\n",
    "driver.switch_to.window(driver.window_handles[1])\n",
    "driver.close()\n",
    "driver.switch_to.window(driver.window_handles[0])\n",
    "driver.back()"
   ]
  },
  {
   "cell_type": "code",
   "execution_count": 6,
   "metadata": {},
   "outputs": [],
   "source": [
    "# download the page\n",
    "def download_page(page_num):\n",
    "    go_to_page(page_num)\n",
    "    \n",
    "    # Find the <tbody> element within the table (assuming there is only one table)\n",
    "    tbody = driver.find_element(By.XPATH, \"//table/tbody\")\n",
    "    # Find all <tr> elements within the <tbody>\n",
    "    rows = tbody.find_elements(By.TAG_NAME, \"tr\")\n",
    "\n",
    "    links = []\n",
    "    contents = []\n",
    "    for row in rows:\n",
    "        link = row.find_element(By.XPATH, \".//td[@class='name']/a\").get_attribute(\"href\")\n",
    "        links.append(link)\n",
    "        driver.get(link)\n",
    "        time.sleep(1.2)\n",
    "        html_link = driver.find_element(By.CLASS_NAME, \"btn-html\")\n",
    "        html_link.click()\n",
    "        time.sleep(1.5)\n",
    "        driver.switch_to.window(driver.window_handles[1])\n",
    "        time.sleep(0.5)\n",
    "        elements = driver.find_elements(By.XPATH, \".//*[contains(@class, 'p1') or contains(@class, 'anchor-tag')]\")\n",
    "        text = \"\"\n",
    "        for element in elements:\n",
    "            text += element.text\n",
    "            text += \"\\n\"\n",
    "        contents.append(text)\n",
    "        driver.close()\n",
    "        driver.switch_to.window(driver.window_handles[0])\n",
    "        driver.back()\n",
    "        time.sleep(1)\n",
    "\n",
    "    tbody_text = tbody.text\n",
    "    tbody_text = tbody_text.split(\"\\n\")\n",
    "\n",
    "    for i in range(len(tbody_text)):\n",
    "        if i % 2 == 0:\n",
    "            # split by the first space\n",
    "            tbody_text[i] = tbody_text[i].split(\" \", 1)\n",
    "        else:\n",
    "            tbody_text[i] = tbody_text[i].split(\" \")\n",
    "            if len(tbody_text[i]) == 3:\n",
    "                tbody_text[i].append('0')\n",
    "\n",
    "    # combine the odd and even rows to a large list\n",
    "    tbody_text = [item for sublist in tbody_text for item in sublist]\n",
    "    tbody_text = np.array(tbody_text).reshape(-1, 6)\n",
    "    tbody_text = pd.DataFrame(tbody_text, columns=[\"Number\", \"Title\", \"Author\", \"banHao\", \"Date\", \"Download\"])\n",
    "    tbody_text[\"Links\"] = links\n",
    "    tbody_text[\"Contents\"] = contents\n",
    "    page_df = tbody_text.copy()\n",
    "    return page_df"
   ]
  },
  {
   "cell_type": "markdown",
   "metadata": {},
   "source": [
    "# 下面的代码可以根据自己需求调整"
   ]
  },
  {
   "cell_type": "code",
   "execution_count": 7,
   "metadata": {},
   "outputs": [],
   "source": [
    "df21 = download_page(21)\n",
    "df22 = download_page(22)\n",
    "df23 = download_page(23)\n",
    "# combine the three dataframes\n",
    "df = pd.concat([df21, df22, df23], ignore_index=True)"
   ]
  },
  {
   "cell_type": "code",
   "execution_count": 10,
   "metadata": {},
   "outputs": [],
   "source": [
    "# 根据日期筛选\n",
    "df[\"Date\"] = pd.to_datetime(df[\"Date\"])\n",
    "df = df.sort_values(by=\"Date\")\n",
    "df = df[(df[\"Date\"] >= \"2020-04-01\") & (df[\"Date\"] <= \"2020-06-01\")]\n",
    "df = df.reset_index(drop=True)\n",
    "df.to_csv(\"data.csv\", index=False, encoding=\"utf-8-sig\")"
   ]
  },
  {
   "cell_type": "code",
   "execution_count": null,
   "metadata": {},
   "outputs": [],
   "source": []
  }
 ],
 "metadata": {
  "kernelspec": {
   "display_name": "test",
   "language": "python",
   "name": "python3"
  },
  "language_info": {
   "codemirror_mode": {
    "name": "ipython",
    "version": 3
   },
   "file_extension": ".py",
   "mimetype": "text/x-python",
   "name": "python",
   "nbconvert_exporter": "python",
   "pygments_lexer": "ipython3",
   "version": "3.11.5"
  },
  "orig_nbformat": 4
 },
 "nbformat": 4,
 "nbformat_minor": 2
}
